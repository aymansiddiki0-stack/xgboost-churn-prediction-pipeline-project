{
 "cells": [
  {
   "cell_type": "markdown",
   "id": "bb3564e8",
   "metadata": {},
   "source": [
    "# Synthetic Data Validation\n",
    "- This notebook demonstrates the synthetic data generator and validates that generated data maintains the statistical properties of the original dataset."
   ]
  },
  {
   "cell_type": "code",
   "execution_count": 2,
   "id": "bfc36149",
   "metadata": {},
   "outputs": [],
   "source": [
    "import sys\n",
    "sys.path.append('..')\n",
    "\n",
    "import pandas as pd\n",
    "import numpy as np\n",
    "import matplotlib.pyplot as plt\n",
    "import seaborn as sns\n",
    "from generate_synthetic_data import SegmentedTelcoGenerator\n",
    "\n",
    "sns.set_style('whitegrid')\n",
    "plt.rcParams['figure.figsize'] = (12, 6)"
   ]
  },
  {
   "cell_type": "markdown",
   "id": "5b3ea4ff",
   "metadata": {},
   "source": [
    "### Generate Synthetic Data\n"
   ]
  },
  {
   "cell_type": "code",
   "execution_count": 3,
   "id": "72154499",
   "metadata": {},
   "outputs": [
    {
     "name": "stdout",
     "output_type": "stream",
     "text": [
      "Loading reference data and identifying 4 customer segments...\n",
      "\n",
      "Segment Analysis:\n",
      "======================================================================\n",
      "\n",
      "Segment 0 (n=1808):\n",
      "  Churn Rate: 4.4%\n",
      "  Avg Tenure: 56.3 months\n",
      "  Month-to-month: 9.1%\n",
      "\n",
      "Segment 1 (n=1420):\n",
      "  Churn Rate: 3.1%\n",
      "  Avg Tenure: 42.3 months\n",
      "  Month-to-month: 0.4%\n",
      "\n",
      "Segment 2 (n=1716):\n",
      "  Churn Rate: 29.1%\n",
      "  Avg Tenure: 12.8 months\n",
      "  Month-to-month: 99.6%\n",
      "\n",
      "Segment 3 (n=2099):\n",
      "  Churn Rate: 59.4%\n",
      "  Avg Tenure: 21.0 months\n",
      "  Month-to-month: 95.1%\n",
      "Identified and learned 4 customer segments\n",
      "\n"
     ]
    }
   ],
   "source": [
    "generator = SegmentedTelcoGenerator('../data/raw/Telco_customer_churn.xlsx', n_segments=4)"
   ]
  },
  {
   "cell_type": "code",
   "execution_count": 4,
   "id": "b5954aa0",
   "metadata": {},
   "outputs": [
    {
     "name": "stdout",
     "output_type": "stream",
     "text": [
      "Generating 1000 synthetic customers from 4 segments...\n",
      "\n",
      "Generating from segments: [258 201 243 298]\n",
      "\n",
      "Generated 1000 synthetic customers\n",
      "\n",
      "Synthetic Data Segment Characteristics:\n",
      "======================================================================\n",
      "Segment 0: Churn Rate = 14.7%\n",
      "Segment 1: Churn Rate = 26.1%\n",
      "Segment 2: Churn Rate = 37.9%\n",
      "Segment 3: Churn Rate = 36.4%\n"
     ]
    }
   ],
   "source": [
    "synthetic_df = generator.generate(n_samples=1000)\n"
   ]
  },
  {
   "cell_type": "code",
   "execution_count": 5,
   "id": "db913a54",
   "metadata": {},
   "outputs": [
    {
     "data": {
      "text/html": [
       "<div>\n",
       "<style scoped>\n",
       "    .dataframe tbody tr th:only-of-type {\n",
       "        vertical-align: middle;\n",
       "    }\n",
       "\n",
       "    .dataframe tbody tr th {\n",
       "        vertical-align: top;\n",
       "    }\n",
       "\n",
       "    .dataframe thead th {\n",
       "        text-align: right;\n",
       "    }\n",
       "</style>\n",
       "<table border=\"1\" class=\"dataframe\">\n",
       "  <thead>\n",
       "    <tr style=\"text-align: right;\">\n",
       "      <th></th>\n",
       "      <th>CustomerID</th>\n",
       "      <th>Gender</th>\n",
       "      <th>Senior Citizen</th>\n",
       "      <th>Partner</th>\n",
       "      <th>Dependents</th>\n",
       "      <th>Tenure Months</th>\n",
       "      <th>Phone Service</th>\n",
       "      <th>Multiple Lines</th>\n",
       "      <th>Internet Service</th>\n",
       "      <th>Online Security</th>\n",
       "      <th>...</th>\n",
       "      <th>Device Protection</th>\n",
       "      <th>Tech Support</th>\n",
       "      <th>Streaming TV</th>\n",
       "      <th>Streaming Movies</th>\n",
       "      <th>Contract</th>\n",
       "      <th>Paperless Billing</th>\n",
       "      <th>Payment Method</th>\n",
       "      <th>Monthly Charges</th>\n",
       "      <th>Total Charges</th>\n",
       "      <th>Churn Value</th>\n",
       "    </tr>\n",
       "  </thead>\n",
       "  <tbody>\n",
       "    <tr>\n",
       "      <th>0</th>\n",
       "      <td>SYNTH-000001</td>\n",
       "      <td>Male</td>\n",
       "      <td>No</td>\n",
       "      <td>Yes</td>\n",
       "      <td>No</td>\n",
       "      <td>62</td>\n",
       "      <td>Yes</td>\n",
       "      <td>No</td>\n",
       "      <td>Fiber optic</td>\n",
       "      <td>No</td>\n",
       "      <td>...</td>\n",
       "      <td>No</td>\n",
       "      <td>Yes</td>\n",
       "      <td>Yes</td>\n",
       "      <td>No</td>\n",
       "      <td>Two year</td>\n",
       "      <td>No</td>\n",
       "      <td>Bank transfer (automatic)</td>\n",
       "      <td>102.32</td>\n",
       "      <td>6870.70</td>\n",
       "      <td>0</td>\n",
       "    </tr>\n",
       "    <tr>\n",
       "      <th>1</th>\n",
       "      <td>SYNTH-000002</td>\n",
       "      <td>Female</td>\n",
       "      <td>Yes</td>\n",
       "      <td>Yes</td>\n",
       "      <td>Yes</td>\n",
       "      <td>52</td>\n",
       "      <td>Yes</td>\n",
       "      <td>Yes</td>\n",
       "      <td>Fiber optic</td>\n",
       "      <td>Yes</td>\n",
       "      <td>...</td>\n",
       "      <td>Yes</td>\n",
       "      <td>Yes</td>\n",
       "      <td>No</td>\n",
       "      <td>No</td>\n",
       "      <td>One year</td>\n",
       "      <td>Yes</td>\n",
       "      <td>Bank transfer (automatic)</td>\n",
       "      <td>81.32</td>\n",
       "      <td>4284.22</td>\n",
       "      <td>1</td>\n",
       "    </tr>\n",
       "    <tr>\n",
       "      <th>2</th>\n",
       "      <td>SYNTH-000003</td>\n",
       "      <td>Male</td>\n",
       "      <td>No</td>\n",
       "      <td>Yes</td>\n",
       "      <td>Yes</td>\n",
       "      <td>54</td>\n",
       "      <td>Yes</td>\n",
       "      <td>No phone service</td>\n",
       "      <td>Fiber optic</td>\n",
       "      <td>Yes</td>\n",
       "      <td>...</td>\n",
       "      <td>Yes</td>\n",
       "      <td>Yes</td>\n",
       "      <td>No</td>\n",
       "      <td>No</td>\n",
       "      <td>Two year</td>\n",
       "      <td>Yes</td>\n",
       "      <td>Credit card (automatic)</td>\n",
       "      <td>63.41</td>\n",
       "      <td>3576.02</td>\n",
       "      <td>0</td>\n",
       "    </tr>\n",
       "    <tr>\n",
       "      <th>3</th>\n",
       "      <td>SYNTH-000004</td>\n",
       "      <td>Male</td>\n",
       "      <td>No</td>\n",
       "      <td>No</td>\n",
       "      <td>No</td>\n",
       "      <td>58</td>\n",
       "      <td>Yes</td>\n",
       "      <td>No</td>\n",
       "      <td>DSL</td>\n",
       "      <td>Yes</td>\n",
       "      <td>...</td>\n",
       "      <td>Yes</td>\n",
       "      <td>No</td>\n",
       "      <td>No</td>\n",
       "      <td>No</td>\n",
       "      <td>Two year</td>\n",
       "      <td>No</td>\n",
       "      <td>Mailed check</td>\n",
       "      <td>97.99</td>\n",
       "      <td>6113.15</td>\n",
       "      <td>0</td>\n",
       "    </tr>\n",
       "    <tr>\n",
       "      <th>4</th>\n",
       "      <td>SYNTH-000005</td>\n",
       "      <td>Male</td>\n",
       "      <td>No</td>\n",
       "      <td>Yes</td>\n",
       "      <td>No</td>\n",
       "      <td>72</td>\n",
       "      <td>Yes</td>\n",
       "      <td>No</td>\n",
       "      <td>DSL</td>\n",
       "      <td>Yes</td>\n",
       "      <td>...</td>\n",
       "      <td>Yes</td>\n",
       "      <td>Yes</td>\n",
       "      <td>No</td>\n",
       "      <td>Yes</td>\n",
       "      <td>Two year</td>\n",
       "      <td>No</td>\n",
       "      <td>Bank transfer (automatic)</td>\n",
       "      <td>68.93</td>\n",
       "      <td>4577.87</td>\n",
       "      <td>0</td>\n",
       "    </tr>\n",
       "    <tr>\n",
       "      <th>5</th>\n",
       "      <td>SYNTH-000006</td>\n",
       "      <td>Male</td>\n",
       "      <td>No</td>\n",
       "      <td>Yes</td>\n",
       "      <td>Yes</td>\n",
       "      <td>64</td>\n",
       "      <td>Yes</td>\n",
       "      <td>No</td>\n",
       "      <td>Fiber optic</td>\n",
       "      <td>Yes</td>\n",
       "      <td>...</td>\n",
       "      <td>Yes</td>\n",
       "      <td>Yes</td>\n",
       "      <td>Yes</td>\n",
       "      <td>No</td>\n",
       "      <td>Two year</td>\n",
       "      <td>No</td>\n",
       "      <td>Credit card (automatic)</td>\n",
       "      <td>47.29</td>\n",
       "      <td>3138.00</td>\n",
       "      <td>0</td>\n",
       "    </tr>\n",
       "    <tr>\n",
       "      <th>6</th>\n",
       "      <td>SYNTH-000007</td>\n",
       "      <td>Female</td>\n",
       "      <td>Yes</td>\n",
       "      <td>No</td>\n",
       "      <td>Yes</td>\n",
       "      <td>61</td>\n",
       "      <td>Yes</td>\n",
       "      <td>No</td>\n",
       "      <td>Fiber optic</td>\n",
       "      <td>Yes</td>\n",
       "      <td>...</td>\n",
       "      <td>Yes</td>\n",
       "      <td>Yes</td>\n",
       "      <td>Yes</td>\n",
       "      <td>Yes</td>\n",
       "      <td>Month-to-month</td>\n",
       "      <td>Yes</td>\n",
       "      <td>Bank transfer (automatic)</td>\n",
       "      <td>82.91</td>\n",
       "      <td>4949.52</td>\n",
       "      <td>0</td>\n",
       "    </tr>\n",
       "    <tr>\n",
       "      <th>7</th>\n",
       "      <td>SYNTH-000008</td>\n",
       "      <td>Male</td>\n",
       "      <td>No</td>\n",
       "      <td>Yes</td>\n",
       "      <td>No</td>\n",
       "      <td>58</td>\n",
       "      <td>Yes</td>\n",
       "      <td>No</td>\n",
       "      <td>DSL</td>\n",
       "      <td>Yes</td>\n",
       "      <td>...</td>\n",
       "      <td>No</td>\n",
       "      <td>Yes</td>\n",
       "      <td>No</td>\n",
       "      <td>Yes</td>\n",
       "      <td>Two year</td>\n",
       "      <td>Yes</td>\n",
       "      <td>Credit card (automatic)</td>\n",
       "      <td>40.38</td>\n",
       "      <td>2264.43</td>\n",
       "      <td>0</td>\n",
       "    </tr>\n",
       "    <tr>\n",
       "      <th>8</th>\n",
       "      <td>SYNTH-000009</td>\n",
       "      <td>Male</td>\n",
       "      <td>No</td>\n",
       "      <td>Yes</td>\n",
       "      <td>No</td>\n",
       "      <td>69</td>\n",
       "      <td>Yes</td>\n",
       "      <td>No phone service</td>\n",
       "      <td>DSL</td>\n",
       "      <td>No</td>\n",
       "      <td>...</td>\n",
       "      <td>Yes</td>\n",
       "      <td>No</td>\n",
       "      <td>No</td>\n",
       "      <td>Yes</td>\n",
       "      <td>One year</td>\n",
       "      <td>Yes</td>\n",
       "      <td>Bank transfer (automatic)</td>\n",
       "      <td>92.17</td>\n",
       "      <td>6245.20</td>\n",
       "      <td>0</td>\n",
       "    </tr>\n",
       "    <tr>\n",
       "      <th>9</th>\n",
       "      <td>SYNTH-000010</td>\n",
       "      <td>Male</td>\n",
       "      <td>No</td>\n",
       "      <td>No</td>\n",
       "      <td>No</td>\n",
       "      <td>49</td>\n",
       "      <td>Yes</td>\n",
       "      <td>No</td>\n",
       "      <td>Fiber optic</td>\n",
       "      <td>Yes</td>\n",
       "      <td>...</td>\n",
       "      <td>Yes</td>\n",
       "      <td>No</td>\n",
       "      <td>No</td>\n",
       "      <td>No</td>\n",
       "      <td>Month-to-month</td>\n",
       "      <td>Yes</td>\n",
       "      <td>Credit card (automatic)</td>\n",
       "      <td>77.04</td>\n",
       "      <td>4046.46</td>\n",
       "      <td>0</td>\n",
       "    </tr>\n",
       "  </tbody>\n",
       "</table>\n",
       "<p>10 rows × 21 columns</p>\n",
       "</div>"
      ],
      "text/plain": [
       "     CustomerID  Gender Senior Citizen Partner Dependents  Tenure Months  \\\n",
       "0  SYNTH-000001    Male             No     Yes         No             62   \n",
       "1  SYNTH-000002  Female            Yes     Yes        Yes             52   \n",
       "2  SYNTH-000003    Male             No     Yes        Yes             54   \n",
       "3  SYNTH-000004    Male             No      No         No             58   \n",
       "4  SYNTH-000005    Male             No     Yes         No             72   \n",
       "5  SYNTH-000006    Male             No     Yes        Yes             64   \n",
       "6  SYNTH-000007  Female            Yes      No        Yes             61   \n",
       "7  SYNTH-000008    Male             No     Yes         No             58   \n",
       "8  SYNTH-000009    Male             No     Yes         No             69   \n",
       "9  SYNTH-000010    Male             No      No         No             49   \n",
       "\n",
       "  Phone Service    Multiple Lines Internet Service Online Security  ...  \\\n",
       "0           Yes                No      Fiber optic              No  ...   \n",
       "1           Yes               Yes      Fiber optic             Yes  ...   \n",
       "2           Yes  No phone service      Fiber optic             Yes  ...   \n",
       "3           Yes                No              DSL             Yes  ...   \n",
       "4           Yes                No              DSL             Yes  ...   \n",
       "5           Yes                No      Fiber optic             Yes  ...   \n",
       "6           Yes                No      Fiber optic             Yes  ...   \n",
       "7           Yes                No              DSL             Yes  ...   \n",
       "8           Yes  No phone service              DSL              No  ...   \n",
       "9           Yes                No      Fiber optic             Yes  ...   \n",
       "\n",
       "  Device Protection Tech Support Streaming TV Streaming Movies  \\\n",
       "0                No          Yes          Yes               No   \n",
       "1               Yes          Yes           No               No   \n",
       "2               Yes          Yes           No               No   \n",
       "3               Yes           No           No               No   \n",
       "4               Yes          Yes           No              Yes   \n",
       "5               Yes          Yes          Yes               No   \n",
       "6               Yes          Yes          Yes              Yes   \n",
       "7                No          Yes           No              Yes   \n",
       "8               Yes           No           No              Yes   \n",
       "9               Yes           No           No               No   \n",
       "\n",
       "         Contract Paperless Billing             Payment Method  \\\n",
       "0        Two year                No  Bank transfer (automatic)   \n",
       "1        One year               Yes  Bank transfer (automatic)   \n",
       "2        Two year               Yes    Credit card (automatic)   \n",
       "3        Two year                No               Mailed check   \n",
       "4        Two year                No  Bank transfer (automatic)   \n",
       "5        Two year                No    Credit card (automatic)   \n",
       "6  Month-to-month               Yes  Bank transfer (automatic)   \n",
       "7        Two year               Yes    Credit card (automatic)   \n",
       "8        One year               Yes  Bank transfer (automatic)   \n",
       "9  Month-to-month               Yes    Credit card (automatic)   \n",
       "\n",
       "  Monthly Charges  Total Charges  Churn Value  \n",
       "0          102.32        6870.70            0  \n",
       "1           81.32        4284.22            1  \n",
       "2           63.41        3576.02            0  \n",
       "3           97.99        6113.15            0  \n",
       "4           68.93        4577.87            0  \n",
       "5           47.29        3138.00            0  \n",
       "6           82.91        4949.52            0  \n",
       "7           40.38        2264.43            0  \n",
       "8           92.17        6245.20            0  \n",
       "9           77.04        4046.46            0  \n",
       "\n",
       "[10 rows x 21 columns]"
      ]
     },
     "execution_count": 5,
     "metadata": {},
     "output_type": "execute_result"
    }
   ],
   "source": [
    "synthetic_df.head(10)"
   ]
  },
  {
   "cell_type": "markdown",
   "id": "4ffaddc6",
   "metadata": {},
   "source": [
    "### Load Original Data For Comparison"
   ]
  },
  {
   "cell_type": "code",
   "execution_count": 6,
   "id": "8199cade",
   "metadata": {},
   "outputs": [
    {
     "name": "stdout",
     "output_type": "stream",
     "text": [
      "Original data: 7043 customers\n",
      "Synthetic data: 1000 customers\n"
     ]
    }
   ],
   "source": [
    "original_df = pd.read_excel('../data/raw/Telco_customer_churn.xlsx', sheet_name='Telco_Churn')\n",
    "print(f\"Original data: {len(original_df)} customers\")\n",
    "print(f\"Synthetic data: {len(synthetic_df)} customers\")"
   ]
  },
  {
   "cell_type": "markdown",
   "id": "7d8272bb",
   "metadata": {},
   "source": [
    "### Visual Comparison: Numeric Features "
   ]
  },
  {
   "cell_type": "code",
   "execution_count": 7,
   "id": "d5c3b26b",
   "metadata": {},
   "outputs": [
    {
     "data": {
      "image/png": "[encoded data removed]",
      "text/plain": [
       "<Figure size 1400x500 with 2 Axes>"
      ]
     },
     "metadata": {},
     "output_type": "display_data"
    }
   ],
   "source": [
    "fig, axes = plt.subplots(1, 2, figsize=(14, 5))\n",
    "\n",
    "axes[0].hist(original_df['Tenure Months'], bins=30, alpha=0.7, color='blue', label='Original')\n",
    "axes[0].hist(synthetic_df['Tenure Months'], bins=30, alpha=0.7, color='red', label='Synthetic')\n",
    "axes[0].set_xlabel('Tenure Months')\n",
    "axes[0].set_ylabel('Frequency')\n",
    "axes[0].set_title('Tenure Distribution')\n",
    "axes[0].legend()\n",
    "\n",
    "axes[1].hist(original_df['Monthly Charges'], bins=30, alpha=0.7, color='blue', label='Original')\n",
    "axes[1].hist(synthetic_df['Monthly Charges'], bins=30, alpha=0.7, color='red', label='Synthetic')\n",
    "axes[1].set_xlabel('Monthly Charges ($)')\n",
    "axes[1].set_ylabel('Frequency')\n",
    "axes[1].set_title('Monthly Charges Distribution')\n",
    "axes[1].legend()\n",
    "\n",
    "plt.tight_layout()\n",
    "plt.show()"
   ]
  },
  {
   "cell_type": "code",
   "execution_count": 8,
   "id": "257941ee",
   "metadata": {},
   "outputs": [
    {
     "data": {
      "image/png": "[encoded data removed]",
      "text/plain": [
       "<Figure size 1400x500 with 2 Axes>"
      ]
     },
     "metadata": {},
     "output_type": "display_data"
    }
   ],
   "source": [
    "fig, axes = plt.subplots(1, 2, figsize=(14, 5))\n",
    "\n",
    "original_df['Internet Service'].value_counts().plot(kind='bar', ax=axes[0], color='blue', alpha=0.7)\n",
    "axes[0].set_title('Internet Service (Original)')\n",
    "axes[0].set_ylabel('Count')\n",
    "axes[0].tick_params(axis='x', rotation=45)\n",
    "\n",
    "synthetic_df['Internet Service'].value_counts().plot(kind='bar', ax=axes[1], color='red', alpha=0.7)\n",
    "axes[1].set_title('Internet Service (Synthetic)')\n",
    "axes[1].set_ylabel('Count')\n",
    "axes[1].tick_params(axis='x', rotation=45)\n",
    "\n",
    "plt.tight_layout()\n",
    "plt.show()"
   ]
  },
  {
   "cell_type": "markdown",
   "id": "698fa1f7",
   "metadata": {},
   "source": [
    "### Churn Rate Comparison"
   ]
  },
  {
   "cell_type": "code",
   "execution_count": 9,
   "id": "c9d0d3be",
   "metadata": {},
   "outputs": [
    {
     "name": "stdout",
     "output_type": "stream",
     "text": [
      "Original Churn Rate:  0.265 (26.5%)\n",
      "Synthetic Churn Rate: 0.270 (27.0%)\n",
      "Difference: 0.0046\n"
     ]
    }
   ],
   "source": [
    "original_churn = original_df['Churn Value'].mean()\n",
    "synthetic_churn = synthetic_df['Churn Value'].mean()\n",
    "\n",
    "print(f\"Original Churn Rate:  {original_churn:.3f} ({original_churn*100:.1f}%)\")\n",
    "print(f\"Synthetic Churn Rate: {synthetic_churn:.3f} ({synthetic_churn*100:.1f}%)\")\n",
    "print(f\"Difference: {abs(original_churn - synthetic_churn):.4f}\")"
   ]
  },
  {
   "cell_type": "code",
   "execution_count": 10,
   "id": "745598f8",
   "metadata": {},
   "outputs": [
    {
     "data": {
      "image/png": "[encoded data removed]",
      "text/plain": [
       "<Figure size 800x500 with 1 Axes>"
      ]
     },
     "metadata": {},
     "output_type": "display_data"
    }
   ],
   "source": [
    "fig, ax = plt.subplots(figsize=(8, 5))\n",
    "\n",
    "x = ['Original', 'Synthetic']\n",
    "y = [original_churn * 100, synthetic_churn * 100]\n",
    "\n",
    "ax.bar(x, y, color=['blue', 'red'], alpha=0.7)\n",
    "ax.set_ylabel('Churn Rate (%)')\n",
    "ax.set_title('Churn Rate Comparison')\n",
    "ax.set_ylim(0, 30)\n",
    "\n",
    "for i, v in enumerate(y):\n",
    "    ax.text(i, v + 0.5, f'{v:.1f}%', ha='center', fontweight='bold')\n",
    "\n",
    "plt.tight_layout()\n",
    "plt.show()"
   ]
  },
  {
   "cell_type": "markdown",
   "id": "170f75a2",
   "metadata": {},
   "source": [
    "### Test Model on Synthetic Data"
   ]
  },
  {
   "cell_type": "code",
   "execution_count": 11,
   "id": "b15bb2e5",
   "metadata": {},
   "outputs": [],
   "source": [
    "import joblib\n",
    "\n",
    "model = joblib.load('../models/churn_model_latest.pkl')"
   ]
  },
  {
   "cell_type": "code",
   "execution_count": 12,
   "id": "4e131538",
   "metadata": {},
   "outputs": [
    {
     "name": "stdout",
     "output_type": "stream",
     "text": [
      "Predictions made on synthetic data\n",
      "Average predicted churn probability: 0.206\n"
     ]
    }
   ],
   "source": [
    "X_synthetic = synthetic_df.drop(['CustomerID', 'Churn Value'], axis=1)\n",
    "y_synthetic = synthetic_df['Churn Value']\n",
    "\n",
    "predictions = model.predict(X_synthetic)\n",
    "probabilities = model.predict_proba(X_synthetic)[:, 1]\n",
    "\n",
    "print(\"Predictions made on synthetic data\")\n",
    "print(f\"Average predicted churn probability: {probabilities.mean():.3f}\")"
   ]
  },
  {
   "cell_type": "code",
   "execution_count": 13,
   "id": "c75218fa",
   "metadata": {},
   "outputs": [
    {
     "name": "stdout",
     "output_type": "stream",
     "text": [
      "Model Performance on Synthetic Data:\n",
      "ROC-AUC: 0.7791\n",
      "Accuracy: 0.7520\n",
      "\n",
      "Classification Report:\n",
      "              precision    recall  f1-score   support\n",
      "\n",
      "           0       0.77      0.93      0.85       730\n",
      "           1       0.59      0.26      0.36       270\n",
      "\n",
      "    accuracy                           0.75      1000\n",
      "   macro avg       0.68      0.60      0.60      1000\n",
      "weighted avg       0.72      0.75      0.72      1000\n",
      "\n"
     ]
    }
   ],
   "source": [
    "from sklearn.metrics import roc_auc_score, accuracy_score, classification_report\n",
    "\n",
    "roc_auc = roc_auc_score(y_synthetic, probabilities)\n",
    "accuracy = accuracy_score(y_synthetic, predictions)\n",
    "\n",
    "print(\"Model Performance on Synthetic Data:\")\n",
    "print(f\"ROC-AUC: {roc_auc:.4f}\")\n",
    "print(f\"Accuracy: {accuracy:.4f}\")\n",
    "print(\"\\nClassification Report:\")\n",
    "print(classification_report(y_synthetic, predictions))"
   ]
  },
  {
   "cell_type": "markdown",
   "id": "64bb2af2",
   "metadata": {},
   "source": []
  }
 ],
 "metadata": {
  "kernelspec": {
   "display_name": ".venv",
   "language": "python",
   "name": "python3"
  },
  "language_info": {
   "codemirror_mode": {
    "name": "ipython",
    "version": 3
   },
   "file_extension": ".py",
   "mimetype": "text/x-python",
   "name": "python",
   "nbconvert_exporter": "python",
   "pygments_lexer": "ipython3",
   "version": "3.12.6"
  }
 },
 "nbformat": 4,
 "nbformat_minor": 5
}
